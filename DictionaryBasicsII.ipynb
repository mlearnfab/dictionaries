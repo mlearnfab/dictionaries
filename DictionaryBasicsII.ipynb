{
 "cells": [
  {
   "cell_type": "markdown",
   "id": "36fbc5d0",
   "metadata": {},
   "source": [
    "# Dictionary Basics II"
   ]
  },
  {
   "cell_type": "markdown",
   "id": "aad3b948",
   "metadata": {},
   "source": [
    "Modify ``lib`` dictionary so that ``key`` is full name (``string``) and ``value`` is a ``list`` of books.\n",
    "\n"
   ]
  },
  {
   "cell_type": "code",
   "execution_count": 4,
   "id": "1e134c11",
   "metadata": {},
   "outputs": [],
   "source": [
    "lib = {\"Jane Austen\": [\"Persuasion\", \"Emma\", \"Pride and Prejudice\"], \n",
    "       \"Jorge Luis Borges\": [\"Ficciones\", \"Poesia Completa\"]}"
   ]
  },
  {
   "cell_type": "code",
   "execution_count": 1,
   "id": "4adabc62",
   "metadata": {},
   "outputs": [],
   "source": [
    "# check entries"
   ]
  },
  {
   "cell_type": "code",
   "execution_count": 2,
   "id": "e1611b12",
   "metadata": {},
   "outputs": [],
   "source": [
    "# retrieve list of books by key\n"
   ]
  },
  {
   "cell_type": "code",
   "execution_count": 3,
   "id": "cdd0c636",
   "metadata": {},
   "outputs": [],
   "source": [
    "# since value is a list, we can append new books \n"
   ]
  },
  {
   "cell_type": "code",
   "execution_count": 4,
   "id": "581e1899",
   "metadata": {},
   "outputs": [],
   "source": [
    "# check entries"
   ]
  },
  {
   "cell_type": "code",
   "execution_count": 9,
   "id": "c7e2a40e",
   "metadata": {},
   "outputs": [],
   "source": [
    "# insert new value by key\n"
   ]
  },
  {
   "cell_type": "code",
   "execution_count": 11,
   "id": "d2bc955a",
   "metadata": {},
   "outputs": [],
   "source": [
    "# delete item from lib\n"
   ]
  },
  {
   "cell_type": "markdown",
   "id": "5a2912c0",
   "metadata": {},
   "source": [
    "## Operations on Dictionaries"
   ]
  },
  {
   "cell_type": "code",
   "execution_count": 8,
   "id": "6b742ee4",
   "metadata": {},
   "outputs": [],
   "source": [
    "# loop over dictionary with key, values\n"
   ]
  },
  {
   "cell_type": "code",
   "execution_count": 6,
   "id": "48b96820",
   "metadata": {},
   "outputs": [],
   "source": [
    "# print only the first value"
   ]
  },
  {
   "cell_type": "code",
   "execution_count": 7,
   "id": "f8f3b091",
   "metadata": {},
   "outputs": [],
   "source": [
    "# update dictionary with new item"
   ]
  },
  {
   "cell_type": "code",
   "execution_count": 9,
   "id": "1770950d",
   "metadata": {},
   "outputs": [],
   "source": [
    "# check entries"
   ]
  },
  {
   "cell_type": "code",
   "execution_count": 12,
   "id": "2dde0304",
   "metadata": {},
   "outputs": [],
   "source": [
    "# print authors whose first name begins with 'J'"
   ]
  },
  {
   "cell_type": "code",
   "execution_count": 11,
   "id": "0186f030",
   "metadata": {},
   "outputs": [],
   "source": [
    "# print full name if authors last name begins with 'A' or 'B'"
   ]
  },
  {
   "cell_type": "code",
   "execution_count": null,
   "id": "3cec9c5e",
   "metadata": {},
   "outputs": [],
   "source": []
  },
  {
   "cell_type": "code",
   "execution_count": null,
   "id": "0e8046ac",
   "metadata": {},
   "outputs": [],
   "source": []
  }
 ],
 "metadata": {
  "kernelspec": {
   "display_name": "Python 3 (ipykernel)",
   "language": "python",
   "name": "python3"
  },
  "language_info": {
   "codemirror_mode": {
    "name": "ipython",
    "version": 3
   },
   "file_extension": ".py",
   "mimetype": "text/x-python",
   "name": "python",
   "nbconvert_exporter": "python",
   "pygments_lexer": "ipython3",
   "version": "3.9.7"
  }
 },
 "nbformat": 4,
 "nbformat_minor": 5
}
