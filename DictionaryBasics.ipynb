{
 "cells": [
  {
   "cell_type": "markdown",
   "id": "36fbc5d0",
   "metadata": {},
   "source": [
    "# Dictionary Basics I"
   ]
  },
  {
   "cell_type": "markdown",
   "id": "cca761ff",
   "metadata": {},
   "source": [
    "Dictionaries are ``key, value`` pairs.\n",
    "\n",
    "Let's create a dictionary called ``lib`` to represent a home library.\n",
    "\n",
    "The ``key`` will be author name. The value will be a book."
   ]
  },
  {
   "cell_type": "code",
   "execution_count": null,
   "id": "2f2f9af2",
   "metadata": {},
   "outputs": [],
   "source": [
    "# create library"
   ]
  },
  {
   "cell_type": "markdown",
   "id": "f7a9704c",
   "metadata": {},
   "source": [
    "### a) retrieve ``value`` by providing the ``key``"
   ]
  },
  {
   "cell_type": "code",
   "execution_count": null,
   "id": "dc88ffc7",
   "metadata": {},
   "outputs": [],
   "source": [
    "# retrieve value \n"
   ]
  },
  {
   "cell_type": "code",
   "execution_count": null,
   "id": "eb4c1505",
   "metadata": {},
   "outputs": [],
   "source": [
    "# check size of dictionary with len() functions\n"
   ]
  },
  {
   "cell_type": "markdown",
   "id": "6367a1fd",
   "metadata": {},
   "source": [
    "### b) dictionaries are mutable"
   ]
  },
  {
   "cell_type": "code",
   "execution_count": null,
   "id": "2c1035e0",
   "metadata": {},
   "outputs": [],
   "source": [
    "# add new entry in dictionary\n"
   ]
  },
  {
   "cell_type": "code",
   "execution_count": null,
   "id": "b182f3cf",
   "metadata": {},
   "outputs": [],
   "source": [
    "# retrieve dictionary keys\n"
   ]
  },
  {
   "cell_type": "code",
   "execution_count": null,
   "id": "f6bbcff9",
   "metadata": {},
   "outputs": [],
   "source": [
    "# retrieve values\n"
   ]
  },
  {
   "cell_type": "code",
   "execution_count": null,
   "id": "1eefae61",
   "metadata": {},
   "outputs": [],
   "source": [
    "# delete item from a dictionary\n"
   ]
  },
  {
   "cell_type": "code",
   "execution_count": null,
   "id": "cbf20e1d",
   "metadata": {},
   "outputs": [],
   "source": [
    "# check lib"
   ]
  },
  {
   "cell_type": "markdown",
   "id": "634f7586",
   "metadata": {},
   "source": [
    "### c) looping over dictionary"
   ]
  },
  {
   "cell_type": "code",
   "execution_count": null,
   "id": "c57673cc",
   "metadata": {},
   "outputs": [],
   "source": [
    "# by default loops over keys\n"
   ]
  },
  {
   "cell_type": "markdown",
   "id": "48c4e25c",
   "metadata": {},
   "source": [
    "### d) looping over both key and value"
   ]
  },
  {
   "cell_type": "code",
   "execution_count": null,
   "id": "9dc52be0",
   "metadata": {},
   "outputs": [],
   "source": [
    "# loop over key and value "
   ]
  },
  {
   "cell_type": "markdown",
   "id": "a838f22b",
   "metadata": {},
   "source": [
    "### e) attach a condition"
   ]
  },
  {
   "cell_type": "code",
   "execution_count": null,
   "id": "12af4c0f",
   "metadata": {},
   "outputs": [],
   "source": [
    "# loop over key and value with a condition"
   ]
  },
  {
   "cell_type": "code",
   "execution_count": null,
   "id": "1abf8d54",
   "metadata": {},
   "outputs": [],
   "source": []
  }
 ],
 "metadata": {
  "kernelspec": {
   "display_name": "Python 3 (ipykernel)",
   "language": "python",
   "name": "python3"
  },
  "language_info": {
   "codemirror_mode": {
    "name": "ipython",
    "version": 3
   },
   "file_extension": ".py",
   "mimetype": "text/x-python",
   "name": "python",
   "nbconvert_exporter": "python",
   "pygments_lexer": "ipython3",
   "version": "3.9.7"
  }
 },
 "nbformat": 4,
 "nbformat_minor": 5
}
