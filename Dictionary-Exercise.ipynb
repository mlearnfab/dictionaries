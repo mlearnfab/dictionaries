{
 "cells": [
  {
   "cell_type": "markdown",
   "id": "36fbc5d0",
   "metadata": {},
   "source": [
    "# Exercise"
   ]
  },
  {
   "cell_type": "markdown",
   "id": "63481667",
   "metadata": {},
   "source": [
    "Write a function to see if a particular book is in the library\n",
    "\n"
   ]
  },
  {
   "cell_type": "code",
   "execution_count": 11,
   "id": "c7e005be",
   "metadata": {},
   "outputs": [],
   "source": [
    "lib = {\"Jane Austen\": [\"Persuasion\", \"Emma\", \"Pride and Prejudice\"],\n",
    "       \"Jorge Luis Borges\": [\"Ficciones\", \"Poesia Completa\"],\n",
    "       \"Heinrich von Kleist\": [\"Die Marquise von O\"],\n",
    "      \"William Shakespeare\": [\"Othello\", \"Hamlet\", \"Macbeth\", \"Midsummer Nights Dream\"]}"
   ]
  },
  {
   "cell_type": "markdown",
   "id": "62c71c74",
   "metadata": {},
   "source": [
    "Step 0: Function should have three arguments: dictionary, author and book"
   ]
  },
  {
   "cell_type": "markdown",
   "id": "de9851ab",
   "metadata": {},
   "source": [
    "Step 1: Check to see if author exists. If it doesn't exist, print that author's work is not in the library.\n",
    "\n"
   ]
  },
  {
   "cell_type": "markdown",
   "id": "3e2596db",
   "metadata": {},
   "source": [
    "Step 2: If author exists, check to see if the book exists. If it exists, then print it's in the library. Otherwise, it's not in the library."
   ]
  },
  {
   "cell_type": "code",
   "execution_count": null,
   "id": "0ba341a7",
   "metadata": {},
   "outputs": [],
   "source": []
  }
 ],
 "metadata": {
  "kernelspec": {
   "display_name": "Python 3 (ipykernel)",
   "language": "python",
   "name": "python3"
  },
  "language_info": {
   "codemirror_mode": {
    "name": "ipython",
    "version": 3
   },
   "file_extension": ".py",
   "mimetype": "text/x-python",
   "name": "python",
   "nbconvert_exporter": "python",
   "pygments_lexer": "ipython3",
   "version": "3.9.7"
  }
 },
 "nbformat": 4,
 "nbformat_minor": 5
}
