{
 "cells": [
  {
   "cell_type": "code",
   "execution_count": 1,
   "id": "35ffeeed",
   "metadata": {},
   "outputs": [],
   "source": [
    "import csv\n",
    "\n",
    "%precision 2\n",
    "\n",
    "with open('data/titanic.csv') as csvfile:\n",
    "    passengers = list(csv.DictReader(csvfile))"
   ]
  },
  {
   "cell_type": "code",
   "execution_count": 1,
   "id": "988ca519",
   "metadata": {},
   "outputs": [],
   "source": [
    "# The first couple of passengers"
   ]
  },
  {
   "cell_type": "code",
   "execution_count": 4,
   "id": "3619c11f",
   "metadata": {},
   "outputs": [
    {
     "data": {
      "text/plain": [
       "891"
      ]
     },
     "execution_count": 4,
     "metadata": {},
     "output_type": "execute_result"
    }
   ],
   "source": [
    "# length of passengers dictionary\n",
    "len(passengers)"
   ]
  },
  {
   "cell_type": "code",
   "execution_count": 2,
   "id": "dce603bc",
   "metadata": {},
   "outputs": [],
   "source": [
    "# passengers keys"
   ]
  },
  {
   "cell_type": "code",
   "execution_count": 5,
   "id": "b1580cba",
   "metadata": {},
   "outputs": [],
   "source": [
    "# calculate average of passengers using for loop"
   ]
  },
  {
   "cell_type": "code",
   "execution_count": 7,
   "id": "d9ffe070",
   "metadata": {},
   "outputs": [],
   "source": [
    "# calculate average of passengers using list comprehension"
   ]
  },
  {
   "cell_type": "code",
   "execution_count": 9,
   "id": "ddf71702",
   "metadata": {},
   "outputs": [],
   "source": [
    "# what are unique values for ports of embarcation\n"
   ]
  }
 ],
 "metadata": {
  "kernelspec": {
   "display_name": "Python 3 (ipykernel)",
   "language": "python",
   "name": "python3"
  },
  "language_info": {
   "codemirror_mode": {
    "name": "ipython",
    "version": 3
   },
   "file_extension": ".py",
   "mimetype": "text/x-python",
   "name": "python",
   "nbconvert_exporter": "python",
   "pygments_lexer": "ipython3",
   "version": "3.9.7"
  }
 },
 "nbformat": 4,
 "nbformat_minor": 5
}
